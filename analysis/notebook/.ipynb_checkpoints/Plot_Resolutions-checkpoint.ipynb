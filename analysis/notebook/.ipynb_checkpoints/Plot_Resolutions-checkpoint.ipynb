{
 "cells": [
  {
   "cell_type": "code",
   "execution_count": 3,
   "metadata": {},
   "outputs": [
    {
     "ename": "ImportError",
     "evalue": "dlopen(/usr/local/lib/python3.9/site-packages/root_numpy/_librootnumpy.cpython-39-darwin.so, 2): Library not loaded: /usr/local/opt/root/lib/libCore.so\n  Referenced from: /usr/local/lib/python3.9/site-packages/root_numpy/_librootnumpy.cpython-39-darwin.so\n  Reason: image not found",
     "output_type": "error",
     "traceback": [
      "\u001b[0;31m---------------------------------------------------------------------------\u001b[0m",
      "\u001b[0;31mImportError\u001b[0m                               Traceback (most recent call last)",
      "\u001b[0;32m<ipython-input-3-4050e3291ba0>\u001b[0m in \u001b[0;36m<module>\u001b[0;34m\u001b[0m\n\u001b[1;32m      1\u001b[0m \u001b[0;32mimport\u001b[0m \u001b[0mROOT\u001b[0m\u001b[0;34m\u001b[0m\u001b[0;34m\u001b[0m\u001b[0m\n\u001b[1;32m      2\u001b[0m \u001b[0;32mimport\u001b[0m \u001b[0mnumpy\u001b[0m \u001b[0;32mas\u001b[0m \u001b[0mnp\u001b[0m\u001b[0;34m\u001b[0m\u001b[0;34m\u001b[0m\u001b[0m\n\u001b[0;32m----> 3\u001b[0;31m \u001b[0;32mimport\u001b[0m \u001b[0mroot_numpy\u001b[0m \u001b[0;32mas\u001b[0m \u001b[0mrnp\u001b[0m\u001b[0;34m\u001b[0m\u001b[0;34m\u001b[0m\u001b[0m\n\u001b[0m\u001b[1;32m      4\u001b[0m \u001b[0;32mfrom\u001b[0m \u001b[0mROOT\u001b[0m \u001b[0;32mimport\u001b[0m \u001b[0mTGraphErrors\u001b[0m\u001b[0;34m\u001b[0m\u001b[0;34m\u001b[0m\u001b[0m\n\u001b[1;32m      5\u001b[0m \u001b[0;32mfrom\u001b[0m \u001b[0mROOT\u001b[0m \u001b[0;32mimport\u001b[0m \u001b[0mTVectorT\u001b[0m\u001b[0;34m\u001b[0m\u001b[0;34m\u001b[0m\u001b[0m\n",
      "\u001b[0;32m/usr/local/Cellar/root/6.22.06_2/lib/root/ROOT/_facade.py\u001b[0m in \u001b[0;36m_importhook\u001b[0;34m(name, *args, **kwds)\u001b[0m\n\u001b[1;32m    119\u001b[0m                 \u001b[0;32mexcept\u001b[0m \u001b[0mException\u001b[0m\u001b[0;34m:\u001b[0m\u001b[0;34m\u001b[0m\u001b[0;34m\u001b[0m\u001b[0m\n\u001b[1;32m    120\u001b[0m                     \u001b[0;32mpass\u001b[0m\u001b[0;34m\u001b[0m\u001b[0;34m\u001b[0m\u001b[0m\n\u001b[0;32m--> 121\u001b[0;31m             \u001b[0;32mreturn\u001b[0m \u001b[0m_orig_ihook\u001b[0m\u001b[0;34m(\u001b[0m\u001b[0mname\u001b[0m\u001b[0;34m,\u001b[0m \u001b[0;34m*\u001b[0m\u001b[0margs\u001b[0m\u001b[0;34m,\u001b[0m \u001b[0;34m**\u001b[0m\u001b[0mkwds\u001b[0m\u001b[0;34m)\u001b[0m\u001b[0;34m\u001b[0m\u001b[0;34m\u001b[0m\u001b[0m\n\u001b[0m\u001b[1;32m    122\u001b[0m         \u001b[0m__builtin__\u001b[0m\u001b[0;34m.\u001b[0m\u001b[0m__import__\u001b[0m \u001b[0;34m=\u001b[0m \u001b[0m_importhook\u001b[0m\u001b[0;34m\u001b[0m\u001b[0;34m\u001b[0m\u001b[0m\n\u001b[1;32m    123\u001b[0m \u001b[0;34m\u001b[0m\u001b[0m\n",
      "\u001b[0;32m/usr/local/lib/python3.9/site-packages/root_numpy/__init__.py\u001b[0m in \u001b[0;36m<module>\u001b[0;34m\u001b[0m\n\u001b[1;32m     49\u001b[0m     \u001b[0;32mdel\u001b[0m \u001b[0mnumpy_version_at_install\u001b[0m\u001b[0;34m\u001b[0m\u001b[0;34m\u001b[0m\u001b[0m\n\u001b[1;32m     50\u001b[0m \u001b[0;34m\u001b[0m\u001b[0m\n\u001b[0;32m---> 51\u001b[0;31m from ._tree import (\n\u001b[0m\u001b[1;32m     52\u001b[0m     \u001b[0mroot2array\u001b[0m\u001b[0;34m,\u001b[0m \u001b[0mroot2rec\u001b[0m\u001b[0;34m,\u001b[0m\u001b[0;34m\u001b[0m\u001b[0;34m\u001b[0m\u001b[0m\n\u001b[1;32m     53\u001b[0m     \u001b[0mtree2array\u001b[0m\u001b[0;34m,\u001b[0m \u001b[0mtree2rec\u001b[0m\u001b[0;34m,\u001b[0m\u001b[0;34m\u001b[0m\u001b[0;34m\u001b[0m\u001b[0m\n",
      "\u001b[0;32m/usr/local/Cellar/root/6.22.06_2/lib/root/ROOT/_facade.py\u001b[0m in \u001b[0;36m_importhook\u001b[0;34m(name, *args, **kwds)\u001b[0m\n\u001b[1;32m    119\u001b[0m                 \u001b[0;32mexcept\u001b[0m \u001b[0mException\u001b[0m\u001b[0;34m:\u001b[0m\u001b[0;34m\u001b[0m\u001b[0;34m\u001b[0m\u001b[0m\n\u001b[1;32m    120\u001b[0m                     \u001b[0;32mpass\u001b[0m\u001b[0;34m\u001b[0m\u001b[0;34m\u001b[0m\u001b[0m\n\u001b[0;32m--> 121\u001b[0;31m             \u001b[0;32mreturn\u001b[0m \u001b[0m_orig_ihook\u001b[0m\u001b[0;34m(\u001b[0m\u001b[0mname\u001b[0m\u001b[0;34m,\u001b[0m \u001b[0;34m*\u001b[0m\u001b[0margs\u001b[0m\u001b[0;34m,\u001b[0m \u001b[0;34m**\u001b[0m\u001b[0mkwds\u001b[0m\u001b[0;34m)\u001b[0m\u001b[0;34m\u001b[0m\u001b[0;34m\u001b[0m\u001b[0m\n\u001b[0m\u001b[1;32m    122\u001b[0m         \u001b[0m__builtin__\u001b[0m\u001b[0;34m.\u001b[0m\u001b[0m__import__\u001b[0m \u001b[0;34m=\u001b[0m \u001b[0m_importhook\u001b[0m\u001b[0;34m\u001b[0m\u001b[0;34m\u001b[0m\u001b[0m\n\u001b[1;32m    123\u001b[0m \u001b[0;34m\u001b[0m\u001b[0m\n",
      "\u001b[0;32m/usr/local/lib/python3.9/site-packages/root_numpy/_tree.py\u001b[0m in \u001b[0;36m<module>\u001b[0;34m\u001b[0m\n\u001b[1;32m      4\u001b[0m \u001b[0;34m\u001b[0m\u001b[0m\n\u001b[1;32m      5\u001b[0m \u001b[0;32mfrom\u001b[0m \u001b[0;34m.\u001b[0m\u001b[0mextern\u001b[0m\u001b[0;34m.\u001b[0m\u001b[0msix\u001b[0m \u001b[0;32mimport\u001b[0m \u001b[0mstring_types\u001b[0m\u001b[0;34m\u001b[0m\u001b[0;34m\u001b[0m\u001b[0m\n\u001b[0;32m----> 6\u001b[0;31m \u001b[0;32mfrom\u001b[0m \u001b[0;34m.\u001b[0m \u001b[0;32mimport\u001b[0m \u001b[0m_librootnumpy\u001b[0m\u001b[0;34m\u001b[0m\u001b[0;34m\u001b[0m\u001b[0m\n\u001b[0m\u001b[1;32m      7\u001b[0m \u001b[0;34m\u001b[0m\u001b[0m\n\u001b[1;32m      8\u001b[0m \u001b[0;34m\u001b[0m\u001b[0m\n",
      "\u001b[0;32m/usr/local/Cellar/root/6.22.06_2/lib/root/ROOT/_facade.py\u001b[0m in \u001b[0;36m_importhook\u001b[0;34m(name, *args, **kwds)\u001b[0m\n\u001b[1;32m    119\u001b[0m                 \u001b[0;32mexcept\u001b[0m \u001b[0mException\u001b[0m\u001b[0;34m:\u001b[0m\u001b[0;34m\u001b[0m\u001b[0;34m\u001b[0m\u001b[0m\n\u001b[1;32m    120\u001b[0m                     \u001b[0;32mpass\u001b[0m\u001b[0;34m\u001b[0m\u001b[0;34m\u001b[0m\u001b[0m\n\u001b[0;32m--> 121\u001b[0;31m             \u001b[0;32mreturn\u001b[0m \u001b[0m_orig_ihook\u001b[0m\u001b[0;34m(\u001b[0m\u001b[0mname\u001b[0m\u001b[0;34m,\u001b[0m \u001b[0;34m*\u001b[0m\u001b[0margs\u001b[0m\u001b[0;34m,\u001b[0m \u001b[0;34m**\u001b[0m\u001b[0mkwds\u001b[0m\u001b[0;34m)\u001b[0m\u001b[0;34m\u001b[0m\u001b[0;34m\u001b[0m\u001b[0m\n\u001b[0m\u001b[1;32m    122\u001b[0m         \u001b[0m__builtin__\u001b[0m\u001b[0;34m.\u001b[0m\u001b[0m__import__\u001b[0m \u001b[0;34m=\u001b[0m \u001b[0m_importhook\u001b[0m\u001b[0;34m\u001b[0m\u001b[0;34m\u001b[0m\u001b[0m\n\u001b[1;32m    123\u001b[0m \u001b[0;34m\u001b[0m\u001b[0m\n",
      "\u001b[0;31mImportError\u001b[0m: dlopen(/usr/local/lib/python3.9/site-packages/root_numpy/_librootnumpy.cpython-39-darwin.so, 2): Library not loaded: /usr/local/opt/root/lib/libCore.so\n  Referenced from: /usr/local/lib/python3.9/site-packages/root_numpy/_librootnumpy.cpython-39-darwin.so\n  Reason: image not found"
     ]
    }
   ],
   "source": [
    "import ROOT\n",
    "import numpy as np\n",
    "#import root_numpy as rnp\n",
    "from ROOT import TGraphErrors\n",
    "from ROOT import TVectorT\n",
    "import matplotlib.pyplot as plt\n",
    "from matplotlib import ticker"
   ]
  },
  {
   "cell_type": "markdown",
   "metadata": {},
   "source": [
    "## File and N_Missing Cut"
   ]
  },
  {
   "cell_type": "code",
   "execution_count": null,
   "metadata": {},
   "outputs": [],
   "source": [
    "No_Missing_Const = True\n",
    "\n",
    "#filename = \"../../output/Missing_const_output_mom_res_combined_electrons+jetssigma_eta_5_p_5_.root\"\n",
    "filename = \"../../output/Missing_const_output_mom_res_combined_electrons+jetssigma_eta_5_p_6_.root\"\n",
    "if No_Missing_Const:\n",
    "    #filename = \"../../output/No_Missing_const_output_mom_res_combined_electrons+jetssigma_eta_5_p_5_.root\"\n",
    "    filename = \"../../output/No_Missing_const_output_mom_res_combined_electrons+jetssigma_eta_5_p_6_.root\"\n",
    "\n",
    "file = ROOT.TFile(filename)\n",
    "prefixes = [\"dpp\",\"dth\",\"dph\"]\n",
    "\n",
    "descr = filename.split(\"+\")[1].split(\".\")[0]\n",
    "if (No_Missing_Const):\n",
    "    fig_name = \"No_Missing_Const_\"+descr+\"plots.pdf\"\n",
    "else:\n",
    "    fig_name = \"Missing_Const_\"+descr+\"plots.pdf\""
   ]
  },
  {
   "cell_type": "markdown",
   "metadata": {},
   "source": [
    "## Binning"
   ]
  },
  {
   "cell_type": "code",
   "execution_count": null,
   "metadata": {},
   "outputs": [],
   "source": [
    "def TVT_to_numpy(file,TVectorT_name):\n",
    "    TVectorT = file.Get(TVectorT_name)\n",
    "    N = TVectorT.GetNoElements()\n",
    "    np_bins = np.zeros(N)\n",
    "    for i in range(N):\n",
    "        np_bins[i] = TVectorT[i]\n",
    "    return np_bins,N-1 #return number of bin centers\n",
    "\n",
    "eta_bins, N_eta = TVT_to_numpy(file,\"TVT_eta_bin\")\n",
    "eta_centers = (eta_bins[1:] + eta_bins[:-1]) /2\n",
    "eta_widths = [(j-i)/2 for i, j in zip(eta_bins[:-1], eta_bins[1:])]\n",
    "\n",
    "mom_bins, N_mom = TVT_to_numpy(file,\"TVT_mom_bin\")\n",
    "mom_centers = (mom_bins[1:] + mom_bins[:-1]) /2\n",
    "mom_widths = [(j-i)/2 for i, j in zip(mom_bins[:-1], mom_bins[1:])]"
   ]
  },
  {
   "cell_type": "markdown",
   "metadata": {},
   "source": [
    "## TH1 -> Dictionary"
   ]
  },
  {
   "cell_type": "code",
   "execution_count": null,
   "metadata": {},
   "outputs": [],
   "source": [
    "def TH1_to_numpy_wErrors(file, TH1_name):    \n",
    "    th1 = file.Get(TH1_name)\n",
    "    N = th1.GetNbinsX()\n",
    "    th1_array = np.zeros(N)\n",
    "    th1_errors = np.zeros(N)\n",
    "    \n",
    "    for i in range(N):\n",
    "        val = th1.GetBinContent(i+1)\n",
    "        error = th1.GetBinError(i+1)\n",
    "        if val == 0: #ROOT for some reason puts unconverged fits from poor stats to 0. Should be NaN\n",
    "            val = np.nan\n",
    "        if error/val >= 1.2: \n",
    "            val=np.nan #skip converged fits with poor statistics\n",
    "        th1_array[i] = val\n",
    "        th1_errors[i] = error\n",
    "    \n",
    "    return th1_array, th1_errors"
   ]
  },
  {
   "cell_type": "code",
   "execution_count": null,
   "metadata": {},
   "outputs": [],
   "source": [
    "eta_dict = {}\n",
    "for s in prefixes:\n",
    "    for eta_v_p in range(N_eta):  #there is a distribution as a function of momentum for each eta bin  \n",
    "        eta_dict[\"eta_%s_%i\"%(s,eta_v_p)],eta_dict[\"eta_%s_%i_Errors\"%(s,eta_v_p)] = TH1_to_numpy_wErrors(file,\"h1_%s_v_p_et_bins_%i\"%(s,eta_v_p))\n",
    "\n",
    "mom_dict = {}\n",
    "for s in prefixes:\n",
    "    for p_v_eta in range(N_mom):    \n",
    "        mom_dict[\"p_%s_%i\"%(s,p_v_eta)],mom_dict[\"p_%s_%i_Errors\"%(s,p_v_eta)] = TH1_to_numpy_wErrors(file,\"h1_%s_v_et_p_bins_%i\"%(s,p_v_eta))"
   ]
  },
  {
   "cell_type": "markdown",
   "metadata": {},
   "source": [
    "### mrad conversion"
   ]
  },
  {
   "cell_type": "code",
   "execution_count": null,
   "metadata": {},
   "outputs": [],
   "source": [
    "do_conversion = False\n",
    "if do_conversion:\n",
    "    rad_mrad = 1000\n",
    "    for s in prefixes:\n",
    "        if (s!=\"dpp\"):\n",
    "            for eta_v_p in range(N_eta):\n",
    "                eta_dict[\"eta_%s_%i\"%(s,eta_v_p)]=eta_dict[\"eta_%s_%i\"%(s,eta_v_p)]*rad_mrad\n",
    "                eta_dict[\"eta_%s_%i_Errors\"%(s,eta_v_p)] = eta_dict[\"eta_%s_%i_Errors\"%(s,eta_v_p)]*rad_mrad\n",
    "            for p_v_eta in range(N_mom):    \n",
    "                mom_dict[\"p_%s_%i\"%(s,p_v_eta)] = mom_dict[\"p_%s_%i\"%(s,p_v_eta)]*rad_mrad\n",
    "                mom_dict[\"p_%s_%i_Errors\"%(s,p_v_eta)] = mom_dict[\"p_%s_%i_Errors\"%(s,p_v_eta)]*rad_mrad"
   ]
  },
  {
   "cell_type": "markdown",
   "metadata": {},
   "source": [
    "## Colors"
   ]
  },
  {
   "cell_type": "code",
   "execution_count": null,
   "metadata": {},
   "outputs": [],
   "source": [
    "def get_colors(color_map, N):\n",
    "    evenly_spaced_interval = np.linspace(0, 1, N)\n",
    "    colors = [color_map(x) for x in evenly_spaced_interval]\n",
    "    return colors\n",
    "\n",
    "eta_colors = get_colors(plt.cm.winter, N_eta)\n",
    "mom_colors = get_colors(plt.cm.autumn,N_mom)\n",
    "\n",
    "\n",
    "test = False\n",
    "if test:\n",
    "    x = np.linspace(0, 10, 100)\n",
    "    lines = [np.sin(x), np.cos(x), np.sin(x + 2), np.cos(x+2), np.sin(x +4)]\n",
    "    for i, color in enumerate(mom_colors):\n",
    "        plt.plot(lines[i], color = color)"
   ]
  },
  {
   "cell_type": "markdown",
   "metadata": {},
   "source": [
    "## Min/Max for Y-axis (overlays)"
   ]
  },
  {
   "cell_type": "code",
   "execution_count": null,
   "metadata": {},
   "outputs": [],
   "source": [
    "max_scale = 1.3\n",
    "min_scale = 0.001\n",
    "ranges = {}\n",
    "for s in prefixes:\n",
    "    min = 999.\n",
    "    max = 0.\n",
    "    for eta in range(N_eta):\n",
    "        temp_min = np.nanmin(eta_dict[\"eta_%s_%i\"%(s,eta)] - eta_dict[\"eta_%s_%i_Errors\"%(s,eta)])\n",
    "        if (temp_min < min):\n",
    "            min = temp_min\n",
    "        \n",
    "        temp_max = np.nanmax(eta_dict[\"eta_%s_%i\"%(s,eta)] + eta_dict[\"eta_%s_%i_Errors\"%(s,eta)])\n",
    "        if (temp_max > max):\n",
    "            max = temp_max\n",
    "          \n",
    "    ranges[\"eta_%s_min\"%(s)] = min*min_scale\n",
    "    ranges[\"eta_%s_max\"%(s)] = max*max_scale\n",
    "    \n",
    "    for p in range(N_mom):\n",
    "        temp_min = np.nanmin(mom_dict[\"p_%s_%i\"%(s,p)] - mom_dict[\"p_%s_%i_Errors\"%(s,p)])\n",
    "        if (temp_min < min):\n",
    "            min = temp_min\n",
    "        \n",
    "        temp_max = np.nanmax(mom_dict[\"p_%s_%i\"%(s,p)] + mom_dict[\"p_%s_%i_Errors\"%(s,p)])\n",
    "        if (temp_max > max):\n",
    "            max = temp_max\n",
    "          \n",
    "    ranges[\"mom_%s_min\"%(s)] = min*min_scale\n",
    "    ranges[\"mom_%s_max\"%(s)] = max*max_scale\n",
    "\n",
    "print(ranges)"
   ]
  },
  {
   "cell_type": "code",
   "execution_count": null,
   "metadata": {},
   "outputs": [],
   "source": [
    "fig = plt.figure(figsize=(24,12))\n",
    "\n",
    "N_divs = (int(len(mom_dict)/N_mom)) #1/2 factor from Errors in dict, 2 factor from eta panels\n",
    "ylabels = [\"dp/p[%]\",r\"d$\\theta$ [mrad]\",r\"d$\\varphi$ [mrad]\"]\n",
    "fmt = \"o-\"\n",
    "\n",
    "for i in range(N_divs):\n",
    "    s = i%len(prefixes) #for dpp,dth,dph switching\n",
    "        \n",
    "    #aesthetics\n",
    "    plt.tight_layout()\n",
    "    ax = fig.add_subplot(2,int(N_divs/2),i+1)\n",
    "        \n",
    "    if (i < N_divs/2):\n",
    "        for p in range(N_mom):\n",
    "            plt.errorbar(eta_centers,mom_dict[\"p_%s_%i\"%(prefixes[s],p)],yerr=mom_dict[\"p_%s_%i_Errors\"%(prefixes[s],p)],\n",
    "                         fmt=fmt,color = mom_colors[p],label=\"$%1.1f<p<%1.1f~\\mathrm{GeV}/c$\"%(mom_bins[p],mom_bins[p+1]))\n",
    "        plt.xlabel(r'$\\eta$',fontsize=25,x=0.5)\n",
    "        plt.ylim(ranges[\"mom_%s_min\"%(prefixes[s])],ranges[\"mom_%s_max\"%(prefixes[s])])           \n",
    "        plt.xlim(np.min(eta_bins),np.max(eta_bins))\n",
    "        \n",
    "    else:\n",
    "        for eta in range(N_eta):\n",
    "            plt.errorbar(mom_centers,eta_dict[\"eta_%s_%i\"%(prefixes[s],eta)],yerr=eta_dict[\"eta_%s_%i_Errors\"%(prefixes[s],eta)],\n",
    "                         fmt=fmt,color = eta_colors[eta],label=\"$%1.1f<\\eta<%1.2f$\"%(eta_bins[eta],eta_bins[eta+1]))#confusing...\n",
    "            plt.xlabel(r'$p~\\mathrm{[GeV}/c]$',fontsize=25,x=0.5)\n",
    "        plt.ylim(ranges[\"eta_%s_min\"%(prefixes[s])],ranges[\"eta_%s_max\"%(prefixes[s])])\n",
    "        plt.xlim(np.min(mom_bins),np.max(mom_bins))\n",
    "        \n",
    "    #Legend Placement\n",
    "    if(No_Missing_Const):\n",
    "        if (i==2): plt.legend(fontsize=15,loc='upper center')\n",
    "        if (i==4): plt.legend(fontsize=15)\n",
    "    else:\n",
    "        if (i==0): plt.legend(fontsize=15,loc='lower right')\n",
    "        if (i==3): plt.legend(fontsize=15,loc='lower right')\n",
    "        \n",
    "    plt.tick_params(which='both',direction='in',right=True,top=True,bottom=True,length=10,labelsize=15)\n",
    "    #plt.yscale(\"log\")\n",
    "    #ax.ticklabel_format(style='plain')\n",
    "    yticks = ticker.MaxNLocator(6)\n",
    "    plt.ylabel(ylabels[s],fontsize=25,y=0.5)\n",
    "    ax.yaxis.set_major_locator(yticks)\n",
    "\n",
    "plt.savefig(fig_name)"
   ]
  },
  {
   "cell_type": "code",
   "execution_count": null,
   "metadata": {},
   "outputs": [],
   "source": []
  }
 ],
 "metadata": {
  "kernelspec": {
   "display_name": "Python 3",
   "language": "python",
   "name": "python3"
  },
  "language_info": {
   "codemirror_mode": {
    "name": "ipython",
    "version": 3
   },
   "file_extension": ".py",
   "mimetype": "text/x-python",
   "name": "python",
   "nbconvert_exporter": "python",
   "pygments_lexer": "ipython3",
   "version": "3.9.1"
  }
 },
 "nbformat": 4,
 "nbformat_minor": 4
}
